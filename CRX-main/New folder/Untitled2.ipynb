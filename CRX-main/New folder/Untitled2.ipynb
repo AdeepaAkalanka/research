{
 "cells": [
  {
   "cell_type": "code",
   "execution_count": 1,
   "id": "71ce2de3",
   "metadata": {},
   "outputs": [],
   "source": [
    "import numpy as np\n",
    "import matplotlib.pyplot as plt\n",
    "%matplotlib inline\n",
    "from keras.models import Model, load_model\n",
    "from keras.preprocessing.image import ImageDataGenerator\n",
    "import cv2\n",
    "\n",
    "from flask import Flask , request, jsonify\n",
    "import base64\n",
    "from PIL import Image\n",
    "from io import BytesIO\n",
    "from skimage import io"
   ]
  },
  {
   "cell_type": "code",
   "execution_count": 2,
   "id": "de755d26",
   "metadata": {},
   "outputs": [],
   "source": [
    "modelct = load_model('model.h5')\n",
    "modelxray = load_model('covid_model.h5')"
   ]
  },
  {
   "cell_type": "code",
   "execution_count": 3,
   "id": "7b99b753",
   "metadata": {},
   "outputs": [],
   "source": [
    "class_dict = {0:'COVID19',\n",
    "              1:'NORMAL',\n",
    "              2:'PNEUMONIA'}"
   ]
  },
  {
   "cell_type": "code",
   "execution_count": null,
   "id": "4a6540a9",
   "metadata": {},
   "outputs": [
    {
     "name": "stdout",
     "output_type": "stream",
     "text": [
      " * Serving Flask app '__main__' (lazy loading)\n",
      " * Environment: production\n",
      "\u001b[31m   WARNING: This is a development server. Do not use it in a production deployment.\u001b[0m\n",
      "\u001b[2m   Use a production WSGI server instead.\u001b[0m\n",
      " * Debug mode: off\n"
     ]
    },
    {
     "name": "stderr",
     "output_type": "stream",
     "text": [
      " * Running on http://127.0.0.1:5000/ (Press CTRL+C to quit)\n",
      "127.0.0.1 - - [17/Oct/2021 00:30:23] \"GET / HTTP/1.1\" 200 -\n"
     ]
    }
   ],
   "source": [
    "app = Flask(__name__)\n",
    "app.config['JSONIFY_PRETTYPRINT_REGULAR'] = False\n",
    "\n",
    "\n",
    "@app.route(\"/\")\n",
    "def hello():\n",
    "    return \"Hello World!\"\n",
    "\n",
    "\n",
    "@app.route(\"/predic/xray\",methods=['POST']) \n",
    "def predictxray():\n",
    "    data = request.json\n",
    "    message = request.get_json()\n",
    "    imagein = message.get('img')\n",
    "    im = Image.open(BytesIO(base64.b64decode(imagein)))\n",
    "    # plt.imshow(im)\n",
    "    im.save('accept.png', 'png')\n",
    "\n",
    "\n",
    "# file_path =  '/content/drive/MyDrive/Colab Notebooks/model_data/nonCovidTest (20).png'\n",
    "    file_path= 'accept.png'\n",
    "    test_image = cv2.imread(file_path)\n",
    "    test_image = cv2.resize(test_image, (224,224),interpolation=cv2.INTER_NEAREST)\n",
    "    # test_image = cv2.resize(file_path,(224,224))\n",
    "#     plt.imshow(test_image)\n",
    "    test_image = np.expand_dims(test_image,axis=0)\n",
    "    probs = modelxray.predict(test_image)\n",
    "    pred_class = np.argmax(probs)\n",
    "\n",
    "    pred_class = class_dict[pred_class]\n",
    "\n",
    "#     print('prediction: ',pred_class)\n",
    "   \n",
    "    return jsonify(pred_class)\n",
    "\n",
    "@app.route(\"/predic/ct\",methods=['POST']) \n",
    "def predictct():\n",
    "    data = request.json\n",
    "    message = request.get_json()\n",
    "    imagein = message.get('img')\n",
    "    im = Image.open(BytesIO(base64.b64decode(imagein)))\n",
    "\n",
    "    im.save('accept.png', 'png')\n",
    "\n",
    "    # img = image.load_img('accept.png', grayscale=False, target_size=(64, 64))\n",
    "         # img = image.load_img('drive/MyDrive/Colab Notebooks/model_data/nonCovidTest (20).png', grayscale=False, target_size=(64, 64)) \n",
    "                          # im = Image.open(BytesIO(base64.b64decode(img)))\n",
    "    img = image.load_img('accept.png', grayscale=False, target_size=(64, 64))\n",
    "                                 \n",
    "    disease_class=['Covid-19','Non Covid-19']\n",
    "    x = image.img_to_array(img)\n",
    "    x = np.expand_dims(x, axis = 0)\n",
    "    x /= 255\n",
    "    custom = modelct.predict(x)\n",
    "    a=custom[0]\n",
    "    ind=np.argmax(a)        \n",
    "\n",
    "    return jsonify(disease_class[ind])\n",
    "\n",
    "\n",
    "if __name__ == '__main__':\n",
    "    app.run() "
   ]
  },
  {
   "cell_type": "code",
   "execution_count": null,
   "id": "08d8c92e",
   "metadata": {},
   "outputs": [],
   "source": []
  }
 ],
 "metadata": {
  "kernelspec": {
   "display_name": "Python 3",
   "language": "python",
   "name": "python3"
  },
  "language_info": {
   "codemirror_mode": {
    "name": "ipython",
    "version": 3
   },
   "file_extension": ".py",
   "mimetype": "text/x-python",
   "name": "python",
   "nbconvert_exporter": "python",
   "pygments_lexer": "ipython3",
   "version": "3.7.3"
  }
 },
 "nbformat": 4,
 "nbformat_minor": 5
}
